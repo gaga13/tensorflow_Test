{
 "cells": [
  {
   "cell_type": "code",
   "execution_count": 17,
   "metadata": {},
   "outputs": [],
   "source": [
    "import tensorflow as tf\n",
    "import numpy as np\n",
    "import matplotlib.pyplot as plt"
   ]
  },
  {
   "cell_type": "code",
   "execution_count": 32,
   "metadata": {},
   "outputs": [
    {
     "name": "stderr",
     "output_type": "stream",
     "text": [
      "C:\\Python\\lib\\site-packages\\tensorflow\\python\\client\\session.py:1702: UserWarning: An interactive session is already active. This can cause out-of-memory errors in some cases. You must explicitly call `InteractiveSession.close()` to release resources held by the other session(s).\n",
      "  warnings.warn('An interactive session is already active. This can '\n"
     ]
    }
   ],
   "source": [
    "sess = tf.InteractiveSession()"
   ]
  },
  {
   "cell_type": "code",
   "execution_count": 22,
   "metadata": {},
   "outputs": [],
   "source": [
    "data1 = tf.random_normal([1000]).eval() # 정규분포"
   ]
  },
  {
   "cell_type": "code",
   "execution_count": 23,
   "metadata": {},
   "outputs": [
    {
     "data": {
      "text/plain": [
       "(array([ 1.,  0.,  2.,  0.,  1.,  1.,  0.,  2.,  2.,  0.,  3.,  1.,  1.,\n",
       "         2.,  1.,  1.,  4.,  5.,  1.,  4.,  2.,  2.,  2.,  3.,  6.,  8.,\n",
       "         6., 10.,  7., 15.,  8.,  2., 14., 17., 12., 12., 29., 19., 20.,\n",
       "        15., 20., 14., 22., 23., 19., 22., 26., 23., 21., 28., 18., 33.,\n",
       "        32., 23., 16., 20., 20., 21., 28., 19., 25., 27., 14., 26., 17.,\n",
       "        13., 11., 13., 16., 10., 12., 17., 22., 10.,  9.,  4.,  5.,  9.,\n",
       "         5.,  5.,  4.,  5.,  2.,  5.,  8.,  3.,  2.,  1.,  1.,  1.,  1.,\n",
       "         1.,  1.,  2.,  0.,  0.,  1.,  0.,  0.,  3.]),\n",
       " array([-3.1832416 , -3.121775  , -3.0603082 , -2.9988415 , -2.9373748 ,\n",
       "        -2.8759081 , -2.8144414 , -2.7529747 , -2.691508  , -2.6300414 ,\n",
       "        -2.5685747 , -2.507108  , -2.4456413 , -2.3841746 , -2.322708  ,\n",
       "        -2.2612412 , -2.1997745 , -2.1383078 , -2.076841  , -2.0153744 ,\n",
       "        -1.9539077 , -1.892441  , -1.8309743 , -1.7695076 , -1.708041  ,\n",
       "        -1.6465743 , -1.5851076 , -1.5236409 , -1.4621742 , -1.4007075 ,\n",
       "        -1.3392408 , -1.2777741 , -1.2163074 , -1.1548407 , -1.093374  ,\n",
       "        -1.0319073 , -0.9704406 , -0.90897393, -0.84750724, -0.78604054,\n",
       "        -0.72457385, -0.66310716, -0.60164046, -0.54017377, -0.47870708,\n",
       "        -0.41724038, -0.3557737 , -0.294307  , -0.2328403 , -0.1713736 ,\n",
       "        -0.10990691, -0.04844022,  0.01302648,  0.07449317,  0.13595986,\n",
       "         0.19742656,  0.25889325,  0.32035995,  0.38182664,  0.44329333,\n",
       "         0.50476   ,  0.5662267 ,  0.6276934 ,  0.6891601 ,  0.7506268 ,\n",
       "         0.8120935 ,  0.8735602 ,  0.9350269 ,  0.9964936 ,  1.0579603 ,\n",
       "         1.119427  ,  1.1808937 ,  1.2423604 ,  1.303827  ,  1.3652937 ,\n",
       "         1.4267604 ,  1.4882271 ,  1.5496938 ,  1.6111605 ,  1.6726272 ,\n",
       "         1.7340939 ,  1.7955606 ,  1.8570273 ,  1.918494  ,  1.9799607 ,\n",
       "         2.0414274 ,  2.102894  ,  2.1643608 ,  2.2258275 ,  2.2872941 ,\n",
       "         2.3487608 ,  2.4102275 ,  2.4716942 ,  2.533161  ,  2.5946276 ,\n",
       "         2.6560943 ,  2.717561  ,  2.7790277 ,  2.8404944 ,  2.901961  ,\n",
       "         2.9634278 ], dtype=float32),\n",
       " <a list of 100 Patch objects>)"
      ]
     },
     "execution_count": 23,
     "metadata": {},
     "output_type": "execute_result"
    },
    {
     "data": {
      "image/png": "[encoded data removed]",
      "text/plain": [
       "<Figure size 432x288 with 1 Axes>"
      ]
     },
     "metadata": {
      "needs_background": "light"
     },
     "output_type": "display_data"
    }
   ],
   "source": [
    "plt.hist(data1, bins=100)"
   ]
  },
  {
   "cell_type": "code",
   "execution_count": 24,
   "metadata": {},
   "outputs": [],
   "source": [
    "plt.show()"
   ]
  },
  {
   "cell_type": "code",
   "execution_count": 26,
   "metadata": {},
   "outputs": [],
   "source": [
    "data2 = tf.random_uniform([1000]).eval()  #??"
   ]
  },
  {
   "cell_type": "code",
   "execution_count": 28,
   "metadata": {},
   "outputs": [
    {
     "data": {
      "text/plain": [
       "array([6.14009738e-01, 9.54793453e-01, 6.25191927e-02, 7.91187763e-01,\n",
       "       2.46769071e-01, 6.92942023e-01, 5.89468122e-01, 8.33739877e-01,\n",
       "       1.47914886e-01, 4.71006632e-02, 3.63973618e-01, 1.17706418e-01,\n",
       "       3.32614779e-01, 3.87400627e-01, 5.12468815e-02, 9.73793268e-02,\n",
       "       8.54904413e-01, 5.35755992e-01, 3.56677294e-01, 5.35967231e-01,\n",
       "       5.74647427e-01, 1.47787213e-01, 8.87967587e-01, 3.43475699e-01,\n",
       "       6.81704044e-01, 9.98892188e-01, 6.78621650e-01, 1.58315301e-01,\n",
       "       4.92357135e-01, 9.28383470e-01, 8.15567017e-01, 6.58451438e-01,\n",
       "       7.21879363e-01, 3.33136559e-01, 5.38211226e-01, 6.21655822e-01,\n",
       "       6.87007546e-01, 1.94457173e-01, 3.28571081e-01, 7.98144937e-01,\n",
       "       5.11511922e-01, 6.72235131e-01, 5.75695157e-01, 2.43880510e-01,\n",
       "       9.89723206e-03, 2.82240868e-01, 2.30582833e-01, 8.06325197e-01,\n",
       "       7.92152405e-01, 3.63123178e-01, 8.57914686e-01, 3.15153599e-03,\n",
       "       6.10612988e-01, 2.43365526e-01, 8.67269635e-01, 1.22588038e-01,\n",
       "       7.06912637e-01, 8.30493212e-01, 7.79257059e-01, 9.64676857e-01,\n",
       "       4.37468886e-01, 4.63063002e-01, 8.16383004e-01, 1.81206822e-01,\n",
       "       1.51709080e-01, 7.05436468e-01, 8.56832385e-01, 5.16453147e-01,\n",
       "       5.41551232e-01, 4.19178605e-01, 6.10542297e-02, 7.33486891e-01,\n",
       "       5.86003542e-01, 2.13384628e-01, 5.19402742e-01, 7.22609758e-01,\n",
       "       9.11769867e-02, 9.39825416e-01, 1.88953161e-01, 8.49690914e-01,\n",
       "       9.16172862e-01, 3.40732574e-01, 4.05661464e-01, 6.20576620e-01,\n",
       "       4.08568382e-01, 4.35626149e-01, 4.93245125e-01, 5.96245527e-02,\n",
       "       8.07489634e-01, 9.79774475e-01, 5.64144611e-01, 2.22231865e-01,\n",
       "       2.28920937e-01, 5.64547896e-01, 2.24925637e-01, 9.14609432e-03,\n",
       "       9.64543223e-01, 2.84337521e-01, 3.49914908e-01, 9.95022058e-01,\n",
       "       6.04403496e-01, 5.90678215e-01, 8.57113123e-01, 2.32094169e-01,\n",
       "       2.79660821e-01, 7.60779738e-01, 3.52355838e-01, 9.16174293e-01,\n",
       "       9.46351647e-01, 5.76510549e-01, 7.38849163e-01, 8.93509626e-01,\n",
       "       4.08905268e-01, 3.55994940e-01, 1.10054255e-01, 8.96936417e-01,\n",
       "       5.11753798e-01, 6.19378924e-01, 7.49821663e-01, 2.15347767e-01,\n",
       "       5.42079210e-02, 5.29180288e-01, 3.31593633e-01, 1.77027225e-01,\n",
       "       1.14041805e-01, 2.15729594e-01, 1.61343098e-01, 3.97620320e-01,\n",
       "       1.87568665e-01, 6.76302195e-01, 2.44635701e-01, 8.82491350e-01,\n",
       "       8.58929634e-01, 4.23964381e-01, 1.13276243e-02, 5.59159756e-01,\n",
       "       3.22162151e-01, 6.39518261e-01, 7.26906061e-01, 9.20270681e-01,\n",
       "       6.50285482e-01, 2.20056653e-01, 7.18122602e-01, 8.52488279e-01,\n",
       "       8.85923862e-01, 6.00591660e-01, 9.70210910e-01, 1.78560972e-01,\n",
       "       6.05603695e-01, 2.51059771e-01, 8.92737508e-01, 5.63173532e-01,\n",
       "       5.04055619e-01, 2.38101244e-01, 8.87332559e-01, 2.97292709e-01,\n",
       "       9.28788185e-01, 9.89982247e-01, 8.88386965e-01, 2.74800777e-01,\n",
       "       2.99261332e-01, 1.57153010e-01, 8.01988482e-01, 4.18132901e-01,\n",
       "       6.52224302e-01, 4.25444126e-01, 5.05554914e-01, 1.24745965e-01,\n",
       "       9.75391507e-01, 1.69768333e-02, 5.18820763e-01, 9.89556313e-04,\n",
       "       5.94038963e-01, 4.10657763e-01, 8.72017264e-01, 9.47707891e-01,\n",
       "       4.97526884e-01, 2.40230560e-01, 2.51159668e-01, 1.92771554e-01,\n",
       "       8.21182251e-01, 8.76047611e-02, 7.85894036e-01, 1.03424311e-01,\n",
       "       1.20942116e-01, 6.44421101e-01, 9.79924202e-03, 1.37571335e-01,\n",
       "       4.76001143e-01, 3.20330620e-01, 5.58808923e-01, 3.11637640e-01,\n",
       "       9.56588507e-01, 7.82451749e-01, 3.16521525e-01, 5.02437949e-01,\n",
       "       1.39086962e-01, 2.57440448e-01, 7.47191906e-03, 8.05971026e-01,\n",
       "       3.11870098e-01, 8.91712308e-01, 4.27702546e-01, 2.66581059e-01,\n",
       "       1.14446163e-01, 7.00680494e-01, 9.08801556e-02, 1.41850710e-02,\n",
       "       5.27202368e-01, 6.13737583e-01, 5.15845180e-01, 8.96620035e-01,\n",
       "       6.43893123e-01, 5.08059740e-01, 6.26350760e-01, 1.53007030e-01,\n",
       "       5.07686853e-01, 9.82072473e-01, 3.66721034e-01, 2.89774060e-01,\n",
       "       2.55115032e-01, 4.52767611e-01, 4.42170978e-01, 5.23234844e-01,\n",
       "       9.22734857e-01, 7.02648163e-02, 3.54678631e-02, 7.17653871e-01,\n",
       "       2.50105619e-01, 2.28881717e-01, 3.89424086e-01, 4.72280979e-02,\n",
       "       9.65803862e-01, 7.98458219e-01, 6.17803097e-01, 1.41085505e-01,\n",
       "       3.89708996e-01, 7.72026181e-01, 7.38149285e-01, 3.82760525e-01,\n",
       "       6.75888538e-01, 5.91681957e-01, 9.22996640e-01, 1.24241114e-02,\n",
       "       2.49489546e-01, 2.73266435e-01, 6.65713191e-01, 1.70501709e-01,\n",
       "       4.96540427e-01, 8.59497547e-01, 2.45506406e-01, 5.37772179e-02,\n",
       "       4.08153772e-01, 6.74897075e-01, 2.52757072e-01, 6.80285215e-01,\n",
       "       8.43164325e-01, 5.15376329e-01, 2.03209400e-01, 1.08344913e-01,\n",
       "       4.66800570e-01, 8.54685783e-01, 7.16928005e-01, 2.58456707e-01,\n",
       "       8.66823673e-01, 6.71717167e-01, 5.60649633e-01, 1.48881435e-01,\n",
       "       6.67279243e-01, 1.21775270e-01, 2.35649467e-01, 4.72307682e-01,\n",
       "       2.00114489e-01, 9.60412860e-01, 5.69089890e-01, 2.44523287e-02,\n",
       "       2.62268901e-01, 3.51309896e-01, 6.60688281e-01, 7.73601890e-01,\n",
       "       7.11486101e-01, 3.28699350e-01, 9.24302578e-01, 1.18667483e-01,\n",
       "       8.61965299e-01, 3.63079309e-01, 1.21003151e-01, 5.44217348e-01,\n",
       "       1.92735195e-02, 6.86106682e-02, 5.02312303e-01, 1.59471989e-01,\n",
       "       6.69473410e-01, 9.22201276e-01, 9.92079139e-01, 8.79332304e-01,\n",
       "       8.50759506e-01, 4.89997029e-01, 2.77064443e-01, 5.17748833e-01,\n",
       "       5.90272188e-01, 1.41516328e-01, 9.46041226e-01, 7.22790837e-01,\n",
       "       2.40226626e-01, 7.31511712e-01, 6.64400578e-01, 6.25386596e-01,\n",
       "       4.31534410e-01, 1.67349577e-01, 6.17521882e-01, 8.83375883e-01,\n",
       "       3.64431024e-01, 8.60949039e-01, 8.89147401e-01, 7.11379170e-01,\n",
       "       6.36299253e-01, 9.91412282e-01, 5.61630011e-01, 3.61099243e-01,\n",
       "       9.81894135e-01, 2.69624829e-01, 3.43888402e-01, 8.26123714e-01,\n",
       "       3.71290445e-02, 7.41103053e-01, 8.69586825e-01, 4.94656682e-01,\n",
       "       1.76306129e-01, 4.72501755e-01, 5.42669773e-01, 3.69076848e-01,\n",
       "       6.47096515e-01, 3.30811739e-02, 8.46764326e-01, 2.36640334e-01,\n",
       "       2.49984622e-01, 8.09192657e-02, 1.23281956e-01, 4.97767329e-01,\n",
       "       8.94422054e-01, 5.88293195e-01, 9.10845160e-01, 1.05063915e-02,\n",
       "       5.04070282e-01, 3.71740341e-01, 3.06697011e-01, 4.22080636e-01,\n",
       "       6.22284412e-02, 5.60986757e-01, 6.94203258e-01, 9.72375274e-01,\n",
       "       1.30148768e-01, 6.49366379e-02, 9.49755549e-01, 8.91310096e-01,\n",
       "       9.77154136e-01, 9.00213242e-01, 3.88672352e-01, 4.17080879e-01,\n",
       "       4.87960219e-01, 2.77736068e-01, 5.60773134e-01, 2.92160392e-01,\n",
       "       7.57721782e-01, 9.61500287e-01, 2.43973970e-01, 7.62104988e-02,\n",
       "       7.02866912e-01, 3.51652980e-01, 9.38259006e-01, 4.05255079e-01,\n",
       "       2.73984075e-01, 2.69473076e-01, 7.33769417e-01, 3.99404049e-01,\n",
       "       5.79341888e-01, 8.25612545e-01, 8.18949819e-01, 4.33022976e-01,\n",
       "       3.38345766e-02, 2.11705327e-01, 9.39635038e-01, 7.06407547e-01,\n",
       "       1.60740018e-01, 9.25696492e-01, 4.12939906e-01, 4.86739397e-01,\n",
       "       1.46021605e-01, 2.63286829e-02, 5.99782228e-01, 1.18976593e-01,\n",
       "       2.53141403e-01, 2.71836162e-01, 3.24350238e-01, 3.23925018e-01,\n",
       "       4.46101069e-01, 9.92462993e-01, 8.59979510e-01, 3.63948107e-01,\n",
       "       2.51610994e-01, 8.77196431e-01, 7.06630707e-01, 6.68182254e-01,\n",
       "       2.73916483e-01, 4.50369239e-01, 1.43028617e-01, 6.34400845e-01,\n",
       "       1.66493535e-01, 8.29494953e-01, 7.11688399e-01, 4.55907822e-01,\n",
       "       3.23754668e-01, 5.77642083e-01, 5.42534471e-01, 8.00946474e-01,\n",
       "       4.90642786e-01, 7.78390288e-01, 2.58942008e-01, 5.84730506e-01,\n",
       "       6.94912195e-01, 3.92787218e-01, 6.43956542e-01, 3.15208673e-01,\n",
       "       1.50476456e-01, 3.38725328e-01, 9.50343847e-01, 6.80914283e-01,\n",
       "       2.22978711e-01, 1.50296688e-02, 4.43888903e-01, 6.10770464e-01,\n",
       "       7.11793542e-01, 1.73233747e-01, 4.30905223e-01, 9.78447080e-01,\n",
       "       3.28742623e-01, 1.34414196e-01, 9.98333931e-01, 9.64488029e-01,\n",
       "       6.97215915e-01, 4.01299477e-01, 8.57986212e-02, 8.94191384e-01,\n",
       "       3.87139678e-01, 5.52170873e-01, 2.13934898e-01, 1.49240017e-01,\n",
       "       1.35848999e-01, 9.25948620e-01, 9.20852304e-01, 9.76092219e-01,\n",
       "       1.36352181e-01, 1.01000667e-01, 7.45251775e-01, 5.62861443e-01,\n",
       "       1.99472904e-01, 2.28592157e-02, 3.23837519e-01, 6.13651156e-01,\n",
       "       8.79768372e-01, 2.72557020e-01, 6.76245689e-01, 3.59055400e-01,\n",
       "       6.70890212e-01, 7.38218427e-01, 4.28508043e-01, 5.00909448e-01,\n",
       "       3.01394343e-01, 1.39346957e-01, 5.68230867e-01, 3.64114046e-01,\n",
       "       1.34533286e-01, 9.10406232e-01, 2.20938802e-01, 7.23042130e-01,\n",
       "       7.82608986e-03, 7.85005808e-01, 7.76035428e-01, 2.05563545e-01,\n",
       "       1.82468057e-01, 1.08714700e-01, 6.28493905e-01, 5.34327030e-02,\n",
       "       1.36894107e-01, 3.28952312e-01, 6.02354407e-01, 7.72969484e-01,\n",
       "       8.20526123e-01, 2.82984376e-01, 4.57404375e-01, 8.40622783e-01,\n",
       "       6.78605199e-01, 5.06264687e-01, 4.83036518e-01, 3.02105546e-01,\n",
       "       4.67517018e-01, 8.67746711e-01, 5.19502163e-02, 5.66286802e-01,\n",
       "       4.32897687e-01, 7.83210993e-02, 5.42987704e-01, 5.19875646e-01,\n",
       "       1.86043262e-01, 2.14555383e-01, 4.20333385e-01, 6.52269363e-01,\n",
       "       7.80736089e-01, 2.06021547e-01, 5.31294346e-01, 3.65101099e-02,\n",
       "       8.71039391e-01, 9.28978920e-02, 9.03521657e-01, 2.64145255e-01,\n",
       "       5.27123451e-01, 9.92353439e-01, 6.35346055e-01, 3.32651973e-01,\n",
       "       9.25170541e-01, 9.14401054e-01, 6.72793150e-01, 9.98415947e-01,\n",
       "       1.29559994e-01, 9.86245990e-01, 9.22035456e-01, 4.89909291e-01,\n",
       "       1.77928925e-01, 2.37765074e-01, 9.52484250e-01, 5.97838283e-01,\n",
       "       7.03253865e-01, 8.42564106e-01, 2.93925166e-01, 9.52254534e-01,\n",
       "       9.86028194e-01, 6.79492950e-04, 4.58922029e-01, 5.97774625e-01,\n",
       "       9.88176823e-01, 1.29356384e-01, 7.80435562e-01, 3.80773187e-01,\n",
       "       2.29088306e-01, 2.38615870e-01, 4.99512911e-01, 3.41761112e-03,\n",
       "       8.28161120e-01, 3.01212430e-01, 9.53007936e-01, 6.06575012e-01,\n",
       "       4.52152252e-01, 1.44608259e-01, 6.20722413e-01, 2.87921309e-01,\n",
       "       1.67945862e-01, 2.17407107e-01, 1.46809340e-01, 4.58124757e-01,\n",
       "       6.91860199e-01, 8.30181837e-01, 5.32172918e-02, 6.99708462e-01,\n",
       "       9.99980569e-01, 7.67474651e-01, 3.00085902e-01, 2.89500833e-01,\n",
       "       1.28750801e-01, 2.76102543e-01, 4.58650470e-01, 2.29797006e-01,\n",
       "       4.75674272e-01, 6.36565685e-03, 1.02405548e-01, 7.86158085e-01,\n",
       "       4.86082554e-01, 8.84299636e-01, 1.70498967e-01, 9.33215737e-01,\n",
       "       4.62054729e-01, 9.91584063e-02, 6.63759708e-01, 3.26950550e-01,\n",
       "       3.18331718e-01, 2.51170874e-01, 6.21716022e-01, 9.34450150e-01,\n",
       "       7.35171437e-01, 5.02368569e-01, 7.47762561e-01, 1.30922437e-01,\n",
       "       3.28230023e-01, 5.31034946e-01, 3.54357243e-01, 5.93400002e-02,\n",
       "       3.27214956e-01, 3.00170541e-01, 3.30725312e-01, 4.50670600e-01,\n",
       "       6.34809494e-01, 9.09946918e-01, 1.70676351e-01, 9.11808133e-01,\n",
       "       4.57693815e-01, 4.21638131e-01, 9.01827335e-01, 4.20993924e-01,\n",
       "       3.91030431e-01, 6.65631533e-01, 6.71913862e-01, 7.98784733e-01,\n",
       "       9.41662192e-01, 9.42894578e-01, 6.07373714e-02, 9.74468827e-01,\n",
       "       9.90214467e-01, 6.35044694e-01, 6.70062065e-01, 9.91201520e-01,\n",
       "       2.32906818e-01, 5.21887660e-01, 5.43343663e-01, 1.71075225e-01,\n",
       "       5.10279417e-01, 3.36037278e-01, 5.35731792e-01, 1.61925077e-01,\n",
       "       4.09439802e-02, 9.24087524e-01, 2.22161531e-01, 9.07010317e-01,\n",
       "       6.54539704e-01, 7.31014132e-01, 7.74547696e-01, 4.95438457e-01,\n",
       "       8.67967606e-01, 8.32877874e-01, 9.66945887e-02, 6.10585570e-01,\n",
       "       8.67786407e-01, 3.38490844e-01, 8.33030581e-01, 1.75610185e-01,\n",
       "       6.51839972e-02, 7.34101653e-01, 2.66915560e-02, 1.24747872e-01,\n",
       "       8.61096025e-01, 9.10706639e-01, 7.12649107e-01, 2.57065892e-01,\n",
       "       6.21564031e-01, 8.66999030e-01, 6.60562515e-03, 2.68677473e-02,\n",
       "       6.58261776e-03, 6.10744596e-01, 6.91393375e-01, 6.63017273e-01,\n",
       "       6.92823529e-01, 6.60534382e-01, 5.22390127e-01, 9.54418063e-01,\n",
       "       9.73428488e-01, 4.59558606e-01, 4.53706622e-01, 5.63529611e-01,\n",
       "       9.39782023e-01, 2.30406761e-01, 5.31692266e-01, 7.33532906e-01,\n",
       "       6.07870698e-01, 5.77469945e-01, 6.08498693e-01, 9.76737499e-01,\n",
       "       8.11947703e-01, 9.15632367e-01, 8.35512161e-01, 7.11419225e-01,\n",
       "       1.37180209e-01, 6.33924007e-02, 7.87729383e-01, 6.37312412e-01,\n",
       "       4.04332876e-02, 4.45235968e-01, 9.64205503e-01, 6.00478649e-01,\n",
       "       1.85835481e-01, 5.89639664e-01, 1.20524406e-01, 2.10158825e-02,\n",
       "       9.38298821e-01, 7.62358427e-01, 3.18835855e-01, 6.99549794e-01,\n",
       "       8.05340171e-01, 7.01657176e-01, 4.89799976e-01, 1.58979058e-01,\n",
       "       3.47852111e-01, 1.04646802e-01, 1.73498034e-01, 9.10081267e-01,\n",
       "       7.97245026e-01, 1.61210418e-01, 3.02900672e-01, 1.17663860e-01,\n",
       "       3.45206499e-01, 1.16343498e-01, 1.71772599e-01, 1.72448158e-03,\n",
       "       5.62733531e-01, 7.89487600e-01, 1.97433114e-01, 9.76405501e-01,\n",
       "       4.80837822e-02, 7.83607960e-02, 6.21137381e-01, 7.61284351e-01,\n",
       "       9.58828449e-01, 6.51822686e-01, 4.17189837e-01, 4.28267956e-01,\n",
       "       2.38197684e-01, 5.66650867e-01, 7.35812545e-01, 5.19282341e-01,\n",
       "       7.38508344e-01, 2.68060207e-01, 1.79499865e-01, 4.88476515e-01,\n",
       "       9.17043686e-02, 8.04407358e-01, 8.13697219e-01, 6.71793342e-01,\n",
       "       1.38173223e-01, 3.71380806e-01, 4.87797737e-01, 7.23959327e-01,\n",
       "       6.42711282e-01, 9.30160284e-02, 1.49369240e-03, 4.97196436e-01,\n",
       "       6.06275439e-01, 7.81801105e-01, 9.72534418e-02, 2.96166420e-01,\n",
       "       7.11463690e-01, 2.52072334e-01, 7.23937869e-01, 3.95421624e-01,\n",
       "       3.73879790e-01, 9.29331660e-01, 7.51048326e-02, 9.13923025e-01,\n",
       "       3.86912584e-01, 4.34013247e-01, 1.49142742e-02, 2.96927691e-02,\n",
       "       7.44355917e-02, 9.17531848e-01, 7.56353021e-01, 4.02477503e-01,\n",
       "       1.94165468e-01, 7.29940414e-01, 6.01433277e-01, 5.58928251e-02,\n",
       "       2.40260243e-01, 6.97177768e-01, 2.49705553e-01, 6.16016865e-01,\n",
       "       9.16576862e-01, 6.42271161e-01, 7.28268862e-01, 7.12010741e-01,\n",
       "       8.62339377e-01, 5.98665595e-01, 9.26631689e-02, 5.10925174e-01,\n",
       "       8.41627121e-01, 9.66938972e-01, 7.45392323e-01, 9.02934194e-01,\n",
       "       2.40962386e-01, 3.65706801e-01, 1.84677124e-01, 8.53946328e-01,\n",
       "       5.09992480e-01, 6.43586636e-01, 8.87958169e-01, 9.64575171e-01,\n",
       "       5.46728611e-01, 6.17078781e-01, 7.48397112e-01, 5.23970366e-01,\n",
       "       9.55514550e-01, 2.97098875e-01, 4.53867316e-01, 1.42648339e-01,\n",
       "       1.46163702e-01, 3.36942434e-01, 9.86500382e-01, 3.99808049e-01,\n",
       "       3.69291186e-01, 2.76461363e-01, 8.03574443e-01, 1.46149635e-01,\n",
       "       3.55091095e-01, 3.97446871e-01, 8.98364782e-01, 6.74483418e-01,\n",
       "       2.88944960e-01, 6.66342497e-01, 8.17340732e-01, 8.37798476e-01,\n",
       "       1.43396974e-01, 3.96709800e-01, 4.40646410e-01, 4.19596791e-01,\n",
       "       6.83960319e-01, 7.86549330e-01, 2.59231210e-01, 8.02202940e-01,\n",
       "       4.84024286e-02, 2.74266005e-01, 5.60946703e-01, 3.90928864e-01,\n",
       "       2.15729713e-01, 7.70417929e-01, 6.99089170e-01, 2.41205692e-02,\n",
       "       5.32786131e-01, 2.49569178e-01, 1.41992569e-02, 7.05338955e-01,\n",
       "       1.13469958e-01, 4.82413530e-01, 1.14314795e-01, 5.21591425e-01,\n",
       "       3.00022960e-01, 9.01101112e-01, 4.42329764e-01, 5.14829159e-01,\n",
       "       8.15848112e-02, 1.45509243e-01, 1.92347765e-01, 2.62408733e-01,\n",
       "       7.54519582e-01, 2.05031633e-02, 6.65166140e-01, 9.67215061e-01,\n",
       "       2.14664936e-02, 8.91578794e-01, 2.25036979e-01, 2.63684273e-01,\n",
       "       2.27917075e-01, 6.89345956e-01, 9.12733912e-01, 9.91863132e-01,\n",
       "       7.72555232e-01, 6.74605370e-03, 5.34748077e-01, 2.18823075e-01,\n",
       "       3.97816658e-01, 3.53327632e-01, 6.88255668e-01, 3.40533972e-01,\n",
       "       8.37543845e-01, 9.34727192e-02, 6.49481416e-01, 6.18719339e-01,\n",
       "       3.89676809e-01, 6.51887774e-01, 7.02706099e-01, 5.18082500e-01,\n",
       "       3.01127911e-01, 9.09690261e-01, 9.69940305e-01, 8.15354705e-01,\n",
       "       4.91041780e-01, 5.79899073e-01, 3.61162663e-01, 4.42429543e-01,\n",
       "       8.78652811e-01, 5.15574574e-01, 8.21240783e-01, 3.74577880e-01,\n",
       "       8.96707296e-01, 4.64530230e-01, 3.22356224e-01, 8.40268493e-01,\n",
       "       4.03920293e-01, 9.91826057e-01, 5.24684191e-01, 7.63635874e-01,\n",
       "       1.31826878e-01, 7.56523490e-01, 6.17851019e-02, 8.82673264e-03,\n",
       "       6.21049404e-01, 7.06441879e-01, 8.03135872e-01, 7.85873771e-01,\n",
       "       3.86233211e-01, 2.93887854e-01, 4.93075848e-02, 6.11754417e-01,\n",
       "       6.82537675e-01, 4.84815836e-02, 2.04905629e-01, 6.00168109e-01,\n",
       "       4.37714338e-01, 3.67764115e-01, 6.22513890e-01, 7.98749208e-01,\n",
       "       8.44358921e-01, 7.52558708e-02, 4.77883101e-01, 5.39604425e-02,\n",
       "       1.28935099e-01, 2.00735211e-01, 5.09498000e-01, 2.12831497e-02,\n",
       "       5.60949802e-01, 3.84906530e-02, 6.80225492e-01, 6.29987240e-01,\n",
       "       6.01240158e-01, 8.54803205e-01, 3.58994007e-01, 4.23763037e-01,\n",
       "       8.07725549e-01, 1.41875505e-01, 8.55185986e-02, 9.51657057e-01,\n",
       "       1.35579109e-01, 5.02916336e-01, 4.14373755e-01, 2.30013609e-01,\n",
       "       6.34321332e-01, 3.24502468e-01, 7.08639264e-01, 2.11980820e-01,\n",
       "       6.10167980e-02, 9.72579956e-01, 8.31647992e-01, 9.85913992e-01,\n",
       "       2.00876117e-01, 3.43446970e-01, 8.36170077e-01, 2.50076532e-01,\n",
       "       7.68122435e-01, 1.52300119e-01, 2.50233173e-01, 7.81172395e-01,\n",
       "       7.99029350e-01, 6.94307089e-01, 3.62388492e-01, 3.91606450e-01,\n",
       "       2.56510973e-01, 2.80186296e-01, 5.75117946e-01, 1.79879427e-01,\n",
       "       2.02107430e-03, 9.79785800e-01, 1.42401457e-01, 8.90664458e-01,\n",
       "       1.47345304e-01, 8.41716886e-01, 1.23086572e-01, 9.34971809e-01,\n",
       "       7.22128272e-01, 9.04700875e-01, 7.49638200e-01, 9.51475620e-01,\n",
       "       9.54687476e-01, 5.93869567e-01, 9.11005020e-01, 5.95999241e-01,\n",
       "       6.38693571e-02, 5.07704735e-01, 3.20189953e-01, 6.33148909e-01,\n",
       "       4.72388864e-01, 2.79009819e-01, 6.34106398e-02, 9.67718720e-01,\n",
       "       7.85817862e-01, 8.19117427e-01, 9.95196104e-01, 3.68493795e-01,\n",
       "       3.97714376e-01, 9.57226753e-03, 5.43304920e-01, 8.06044579e-01,\n",
       "       7.36763358e-01, 5.50078273e-01, 6.01930141e-01, 1.15784168e-01],\n",
       "      dtype=float32)"
      ]
     },
     "execution_count": 28,
     "metadata": {},
     "output_type": "execute_result"
    }
   ],
   "source": [
    "data2"
   ]
  },
  {
   "cell_type": "code",
   "execution_count": 31,
   "metadata": {},
   "outputs": [
    {
     "data": {
      "text/plain": [
       "(array([3., 2., 2., 0., 0., 3., 2., 1., 3., 3., 1., 1., 0., 2., 2., 0., 1.,\n",
       "        0., 1., 1., 3., 0., 1., 2., 0., 1., 2., 0., 0., 1., 0., 0., 1., 1.,\n",
       "        1., 1., 1., 1., 0., 1., 1., 0., 0., 0., 0., 0., 2., 3., 1., 0., 1.,\n",
       "        1., 2., 3., 0., 1., 0., 0., 2., 0., 3., 3., 2., 1., 2., 0., 0., 1.,\n",
       "        0., 1., 0., 0., 0., 1., 2., 1., 0., 2., 0., 0., 2., 0., 0., 0., 1.,\n",
       "        1., 1., 0., 0., 0., 2., 1., 4., 0., 0., 0., 3., 0., 1., 0., 1., 1.,\n",
       "        1., 0., 1., 0., 0., 1., 1., 1., 0., 0., 1., 3., 0., 2., 0., 2., 2.,\n",
       "        1., 2., 2., 2., 0., 2., 0., 0., 0., 4., 1., 1., 1., 0., 2., 1., 2.,\n",
       "        3., 1., 2., 0., 2., 2., 3., 0., 2., 3., 2., 2., 2., 1., 0., 2., 1.,\n",
       "        0., 0., 0., 1., 1., 2., 0., 3., 1., 0., 0., 0., 1., 1., 1., 0., 2.,\n",
       "        2., 1., 2., 0., 0., 2., 1., 1., 2., 1., 1., 1., 0., 0., 1., 2., 0.,\n",
       "        1., 1., 0., 0., 1., 1., 2., 0., 0., 1., 0., 1., 1., 2., 0., 1., 0.,\n",
       "        1., 2., 0., 0., 0., 0., 0., 2., 1., 1., 2., 2., 1., 0., 1., 1., 1.,\n",
       "        2., 1., 0., 2., 0., 0., 1., 3., 3., 1., 1., 1., 0., 0., 1., 1., 3.,\n",
       "        1., 3., 1., 0., 1., 2., 2., 0., 1., 0., 1., 6., 3., 2., 2., 0., 1.,\n",
       "        0., 3., 1., 2., 0., 0., 2., 0., 2., 0., 0., 1., 1., 1., 1., 0., 1.,\n",
       "        2., 3., 1., 2., 1., 1., 1., 2., 0., 1., 1., 1., 0., 0., 0., 1., 1.,\n",
       "        2., 0., 1., 0., 2., 0., 1., 2., 0., 1., 3., 3., 1., 1., 0., 0., 0.,\n",
       "        1., 0., 0., 0., 0., 2., 0., 0., 1., 0., 1., 1., 1., 2., 0., 2., 0.,\n",
       "        4., 1., 0., 2., 1., 4., 0., 1., 1., 3., 0., 0., 1., 1., 0., 2., 0.,\n",
       "        2., 0., 0., 3., 1., 0., 0., 1., 0., 1., 1., 2., 1., 1., 1., 1., 1.,\n",
       "        0., 2., 0., 2., 1., 2., 3., 1., 1., 1., 1., 3., 0., 1., 1., 0., 1.,\n",
       "        1., 0., 0., 0., 0., 0., 1., 0., 1., 0., 0., 1., 3., 0., 1., 3., 2.,\n",
       "        1., 1., 0., 0., 1., 1., 4., 0., 2., 1., 0., 1., 1., 1., 1., 0., 1.,\n",
       "        2., 0., 1., 0., 1., 1., 0., 0., 2., 1., 1., 2., 1., 2., 0., 2., 0.,\n",
       "        1., 0., 2., 1., 0., 1., 1., 2., 1., 0., 1., 0., 2., 0., 0., 1., 2.,\n",
       "        1., 1., 1., 1., 0., 0., 0., 0., 2., 1., 1., 2., 0., 1., 0., 3., 2.,\n",
       "        1., 0., 1., 1., 0., 1., 0., 1., 1., 0., 0., 0., 1., 2., 0., 0., 2.,\n",
       "        0., 1., 0., 0., 0., 0., 2., 0., 0., 1., 1., 2., 1., 3., 2., 0., 2.,\n",
       "        0., 1., 1., 2., 2., 0., 1., 1., 1., 3., 2., 0., 2., 0., 3., 0., 3.,\n",
       "        1., 2., 0., 0., 1., 3., 1., 2., 2., 2., 0., 2., 2., 1., 1., 0., 2.,\n",
       "        0., 1., 0., 2., 1., 1., 0., 1., 3., 0., 1., 0., 0., 0., 1., 3., 3.,\n",
       "        0., 0., 1., 0., 0., 1., 0., 1., 0., 0., 0., 0., 0., 0., 2., 0., 5.,\n",
       "        1., 3., 2., 1., 0., 2., 1., 1., 0., 0., 0., 0., 0., 2., 1., 1., 2.,\n",
       "        0., 2., 0., 0., 0., 0., 1., 1., 0., 0., 1., 2., 2., 1., 0., 2., 0.,\n",
       "        1., 0., 2., 1., 2., 3., 2., 1., 0., 1., 1., 2., 1., 1., 0., 4., 1.,\n",
       "        0., 3., 0., 1., 1., 2., 1., 1., 4., 3., 1., 0., 0., 1., 1., 0., 1.,\n",
       "        1., 0., 0., 1., 0., 4., 1., 1., 1., 0., 1., 0., 0., 2., 3., 1., 0.,\n",
       "        1., 0., 0., 1., 1., 2., 2., 0., 1., 0., 0., 0., 1., 0., 2., 0., 1.,\n",
       "        1., 2., 2., 1., 2., 0., 2., 1., 3., 2., 0., 2., 1., 2., 0., 2., 0.,\n",
       "        3., 1., 1., 1., 0., 0., 1., 0., 1., 1., 0., 2., 2., 0., 3., 0., 1.,\n",
       "        1., 1., 2., 1., 1., 2., 1., 0., 2., 4., 0., 1., 0., 0., 7., 1., 0.,\n",
       "        0., 0., 1., 2., 0., 0., 0., 2., 3., 2., 0., 0., 1., 0., 1., 1., 1.,\n",
       "        1., 0., 4., 0., 2., 1., 1., 3., 0., 1., 0., 0., 0., 0., 2., 0., 1.,\n",
       "        1., 2., 0., 0., 0., 0., 1., 0., 2., 1., 0., 0., 1., 1., 1., 1., 0.,\n",
       "        0., 0., 2., 0., 0., 1., 1., 2., 1., 1., 1., 0., 0., 1., 1., 2., 2.,\n",
       "        1., 0., 1., 3., 2., 1., 0., 1., 0., 1., 1., 0., 0., 0., 0., 1., 5.,\n",
       "        0., 1., 1., 1., 2., 1., 3., 1., 2., 0., 0., 0., 1., 0., 1., 0., 2.,\n",
       "        1., 1., 1., 1., 1., 2., 0., 0., 0., 1., 1., 0., 1., 1., 2., 1., 2.,\n",
       "        1., 0., 1., 1., 2., 0., 0., 2., 2., 1., 1., 1., 0., 1., 0., 0., 1.,\n",
       "        1., 0., 1., 1., 3., 0., 1., 2., 1., 2., 1., 2., 1., 0., 0., 0., 2.,\n",
       "        4., 0., 1., 1., 1., 0., 0., 0., 0., 0., 1., 1., 2., 0., 0., 1., 1.,\n",
       "        1., 1., 0., 3., 1., 1., 1., 3., 1., 1., 2., 0., 3., 0., 1., 0., 1.,\n",
       "        2., 1., 1., 1., 0., 1., 0., 0., 2., 5., 1., 1., 1., 1., 1., 3., 1.,\n",
       "        0., 0., 2., 0., 4., 0., 2., 3., 0., 0., 2., 1., 0., 0., 0., 1., 2.,\n",
       "        0., 0., 0., 2., 3., 0., 1., 1., 0., 0., 0., 2., 1., 0., 1., 1., 2.,\n",
       "        3., 0., 3., 1., 1., 0., 1., 0., 1., 1., 0., 0., 5., 1., 1., 2., 0.,\n",
       "        1., 1., 0., 2., 1., 1., 1., 3., 1., 1., 2., 0., 1., 1., 0., 0., 1.,\n",
       "        3., 0., 1., 1., 1., 4., 3., 0., 0., 2., 0., 0., 3., 1.]),\n",
       " array([6.7949295e-04, 1.6787940e-03, 2.6780951e-03, ..., 9.9798197e-01,\n",
       "        9.9898130e-01, 9.9998057e-01], dtype=float32),\n",
       " <a list of 1000 Patch objects>)"
      ]
     },
     "execution_count": 31,
     "metadata": {},
     "output_type": "execute_result"
    },
    {
     "data": {
      "image/png": "[encoded data removed]",
      "text/plain": [
       "<Figure size 432x288 with 1 Axes>"
      ]
     },
     "metadata": {
      "needs_background": "light"
     },
     "output_type": "display_data"
    }
   ],
   "source": [
    "plt.hist(data2, bins=1000)"
   ]
  },
  {
   "cell_type": "code",
   "execution_count": 33,
   "metadata": {},
   "outputs": [],
   "source": [
    "# tf.sum() / tf.reduce_mean()"
   ]
  },
  {
   "cell_type": "code",
   "execution_count": 34,
   "metadata": {},
   "outputs": [
    {
     "data": {
      "text/plain": [
       "3"
      ]
     },
     "execution_count": 34,
     "metadata": {},
     "output_type": "execute_result"
    }
   ],
   "source": [
    "tf.reduce_sum([1,2], axis=0).eval()"
   ]
  },
  {
   "cell_type": "code",
   "execution_count": 36,
   "metadata": {},
   "outputs": [
    {
     "data": {
      "text/plain": [
       "1"
      ]
     },
     "execution_count": 36,
     "metadata": {},
     "output_type": "execute_result"
    }
   ],
   "source": [
    "tf.reduce_mean([1,2], axis=0).eval()"
   ]
  },
  {
   "cell_type": "code",
   "execution_count": 37,
   "metadata": {},
   "outputs": [],
   "source": [
    "x = [[1., 2.],\n",
    "    [3., 4.]]"
   ]
  },
  {
   "cell_type": "code",
   "execution_count": 39,
   "metadata": {},
   "outputs": [
    {
     "data": {
      "text/plain": [
       "2.5"
      ]
     },
     "execution_count": 39,
     "metadata": {},
     "output_type": "execute_result"
    }
   ],
   "source": [
    "tf.reduce_mean(x).eval()"
   ]
  },
  {
   "cell_type": "code",
   "execution_count": 41,
   "metadata": {},
   "outputs": [
    {
     "data": {
      "text/plain": [
       "array([1.5, 3.5], dtype=float32)"
      ]
     },
     "execution_count": 41,
     "metadata": {},
     "output_type": "execute_result"
    }
   ],
   "source": [
    "tf.reduce_mean(x, axis=1).eval()"
   ]
  },
  {
   "cell_type": "code",
   "execution_count": 43,
   "metadata": {},
   "outputs": [
    {
     "data": {
      "text/plain": [
       "array([2., 3.], dtype=float32)"
      ]
     },
     "execution_count": 43,
     "metadata": {},
     "output_type": "execute_result"
    }
   ],
   "source": [
    "tf.reduce_mean(x, axis=0).eval()"
   ]
  },
  {
   "cell_type": "markdown",
   "metadata": {},
   "source": [
    "## tf.argmax()\n",
    "- 베열에서 가장 큰 인수의 인덱스를 리턴함"
   ]
  },
  {
   "cell_type": "code",
   "execution_count": 53,
   "metadata": {},
   "outputs": [],
   "source": [
    "x = [[3, 1, 2], \n",
    "     [2, 6, 9]]"
   ]
  },
  {
   "cell_type": "code",
   "execution_count": 51,
   "metadata": {},
   "outputs": [
    {
     "data": {
      "text/plain": [
       "array([0, 1, 1], dtype=int64)"
      ]
     },
     "execution_count": 51,
     "metadata": {},
     "output_type": "execute_result"
    }
   ],
   "source": [
    "tf.argmax(x, axis=0).eval()"
   ]
  },
  {
   "cell_type": "code",
   "execution_count": 55,
   "metadata": {},
   "outputs": [
    {
     "data": {
      "text/plain": [
       "array([0, 2], dtype=int64)"
      ]
     },
     "execution_count": 55,
     "metadata": {},
     "output_type": "execute_result"
    }
   ],
   "source": [
    "tf.argmax(x, axis=1).eval()"
   ]
  },
  {
   "cell_type": "markdown",
   "metadata": {},
   "source": [
    "## tf.one_hot()\n",
    "- 데이터를 0, 1의 나열로 바꿔줌\n",
    "- 차원이 +1 됨"
   ]
  },
  {
   "cell_type": "code",
   "execution_count": 59,
   "metadata": {},
   "outputs": [
    {
     "data": {
      "text/plain": [
       "array([[[1., 0., 0.]],\n",
       "\n",
       "       [[0., 1., 0.]],\n",
       "\n",
       "       [[0., 0., 1.]],\n",
       "\n",
       "       [[1., 0., 0.]],\n",
       "\n",
       "       [[0., 0., 1.]]], dtype=float32)"
      ]
     },
     "execution_count": 59,
     "metadata": {},
     "output_type": "execute_result"
    }
   ],
   "source": [
    "tf.one_hot([[0],[1],[2],[0],[2]], depth=3).eval()"
   ]
  },
  {
   "cell_type": "code",
   "execution_count": 62,
   "metadata": {},
   "outputs": [
    {
     "data": {
      "text/plain": [
       "array([[0., 1., 0., 0.],\n",
       "       [0., 0., 1., 0.],\n",
       "       [0., 0., 0., 1.],\n",
       "       [1., 0., 0., 0.],\n",
       "       [0., 0., 1., 0.]], dtype=float32)"
      ]
     },
     "execution_count": 62,
     "metadata": {},
     "output_type": "execute_result"
    }
   ],
   "source": [
    "tf.one_hot([1, 2, 3, 0, 2], depth=4).eval()"
   ]
  },
  {
   "cell_type": "code",
   "execution_count": null,
   "metadata": {},
   "outputs": [],
   "source": []
  }
 ],
 "metadata": {
  "kernelspec": {
   "display_name": "Python 3",
   "language": "python",
   "name": "python3"
  },
  "language_info": {
   "codemirror_mode": {
    "name": "ipython",
    "version": 3
   },
   "file_extension": ".py",
   "mimetype": "text/x-python",
   "name": "python",
   "nbconvert_exporter": "python",
   "pygments_lexer": "ipython3",
   "version": "3.7.3"
  }
 },
 "nbformat": 4,
 "nbformat_minor": 2
}
