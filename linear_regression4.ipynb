{
 "cells": [
  {
   "cell_type": "markdown",
   "metadata": {},
   "source": [
    "파일로부터 데이터 읽은 후 작업하기"
   ]
  },
  {
   "cell_type": "code",
   "execution_count": 4,
   "metadata": {},
   "outputs": [],
   "source": [
    "import tensorflow as tf\n",
    "import numpy as np"
   ]
  },
  {
   "cell_type": "code",
   "execution_count": 5,
   "metadata": {},
   "outputs": [],
   "source": [
    "data = np.loadtxt('simple_data.csv', delimiter=',', dtype=np.float32)"
   ]
  },
  {
   "cell_type": "code",
   "execution_count": 8,
   "metadata": {},
   "outputs": [
    {
     "name": "stdout",
     "output_type": "stream",
     "text": [
      "1 (1999,)\n"
     ]
    }
   ],
   "source": [
    "xdata = data[:, 0]\n",
    "ydata = data[:, 1]\n",
    "\n",
    "print(xdata.ndim, xdata.shape)"
   ]
  },
  {
   "cell_type": "code",
   "execution_count": 10,
   "metadata": {},
   "outputs": [],
   "source": [
    "x = tf.placeholder(tf.float32, shape=[None]) #shape=[개수, feature수]\n",
    "y = tf.placeholder(tf.float32, shape=[None])"
   ]
  },
  {
   "cell_type": "code",
   "execution_count": 11,
   "metadata": {},
   "outputs": [
    {
     "name": "stdout",
     "output_type": "stream",
     "text": [
      "WARNING:tensorflow:From C:\\Python\\lib\\site-packages\\tensorflow\\python\\framework\\op_def_library.py:263: colocate_with (from tensorflow.python.framework.ops) is deprecated and will be removed in a future version.\n",
      "Instructions for updating:\n",
      "Colocations handled automatically by placer.\n"
     ]
    }
   ],
   "source": [
    "W = tf.Variable(tf.random_normal([1]), name='weight') # 1 * 1의 행렬\n",
    "# W의 쉐입은 x와 y가 결정한다"
   ]
  },
  {
   "cell_type": "code",
   "execution_count": 12,
   "metadata": {},
   "outputs": [],
   "source": [
    "b = tf.Variable(tf.random_normal([1]), name='bias')"
   ]
  },
  {
   "cell_type": "code",
   "execution_count": 13,
   "metadata": {},
   "outputs": [],
   "source": [
    "hypothesis = x * W + b"
   ]
  },
  {
   "cell_type": "code",
   "execution_count": 15,
   "metadata": {},
   "outputs": [],
   "source": [
    "cost = tf.reduce_mean(tf.square(hypothesis-y))"
   ]
  },
  {
   "cell_type": "code",
   "execution_count": 16,
   "metadata": {},
   "outputs": [],
   "source": [
    "optimizer = tf.train.GradientDescentOptimizer(learning_rate = 0.01)"
   ]
  },
  {
   "cell_type": "code",
   "execution_count": 17,
   "metadata": {},
   "outputs": [],
   "source": [
    "train = optimizer.minimize(cost)"
   ]
  },
  {
   "cell_type": "code",
   "execution_count": 18,
   "metadata": {},
   "outputs": [],
   "source": [
    "sess = tf.Session()"
   ]
  },
  {
   "cell_type": "code",
   "execution_count": 19,
   "metadata": {},
   "outputs": [],
   "source": [
    "sess.run(tf.global_variables_initializer())"
   ]
  },
  {
   "cell_type": "code",
   "execution_count": 21,
   "metadata": {},
   "outputs": [
    {
     "name": "stdout",
     "output_type": "stream",
     "text": [
      "682.6564 [7.025175] [0.9563218]\n",
      "716900700000.0 [122590.766] [9214.522]\n",
      "7.55955e+20 [3.9807483e+09] [2.9918848e+08]\n",
      "7.971371e+29 [1.292657e+14] [9.715459e+12]\n",
      "inf [4.1976116e+18] [3.1548748e+17]\n",
      "inf [1.3630795e+23] [1.0244748e+22]\n",
      "inf [4.4262897e+27] [3.3267456e+26]\n",
      "inf [1.4373354e+32] [1.0802844e+31]\n",
      "inf [nan] [inf]\n",
      "nan [nan] [nan]\n",
      "nan [nan] [nan]\n",
      "nan [nan] [nan]\n",
      "nan [nan] [nan]\n",
      "nan [nan] [nan]\n",
      "nan [nan] [nan]\n",
      "nan [nan] [nan]\n",
      "nan [nan] [nan]\n",
      "nan [nan] [nan]\n",
      "nan [nan] [nan]\n",
      "nan [nan] [nan]\n",
      "nan [nan] [nan]\n",
      "nan [nan] [nan]\n",
      "nan [nan] [nan]\n",
      "nan [nan] [nan]\n",
      "nan [nan] [nan]\n",
      "nan [nan] [nan]\n",
      "nan [nan] [nan]\n",
      "nan [nan] [nan]\n",
      "nan [nan] [nan]\n",
      "nan [nan] [nan]\n",
      "nan [nan] [nan]\n",
      "nan [nan] [nan]\n",
      "nan [nan] [nan]\n",
      "nan [nan] [nan]\n",
      "nan [nan] [nan]\n",
      "nan [nan] [nan]\n",
      "nan [nan] [nan]\n",
      "nan [nan] [nan]\n",
      "nan [nan] [nan]\n",
      "nan [nan] [nan]\n",
      "nan [nan] [nan]\n",
      "nan [nan] [nan]\n",
      "nan [nan] [nan]\n",
      "nan [nan] [nan]\n",
      "nan [nan] [nan]\n",
      "nan [nan] [nan]\n",
      "nan [nan] [nan]\n",
      "nan [nan] [nan]\n",
      "nan [nan] [nan]\n",
      "nan [nan] [nan]\n",
      "nan [nan] [nan]\n",
      "nan [nan] [nan]\n",
      "nan [nan] [nan]\n",
      "nan [nan] [nan]\n",
      "nan [nan] [nan]\n",
      "nan [nan] [nan]\n",
      "nan [nan] [nan]\n",
      "nan [nan] [nan]\n",
      "nan [nan] [nan]\n",
      "nan [nan] [nan]\n",
      "nan [nan] [nan]\n",
      "nan [nan] [nan]\n",
      "nan [nan] [nan]\n",
      "nan [nan] [nan]\n",
      "nan [nan] [nan]\n",
      "nan [nan] [nan]\n",
      "nan [nan] [nan]\n",
      "nan [nan] [nan]\n",
      "nan [nan] [nan]\n",
      "nan [nan] [nan]\n",
      "nan [nan] [nan]\n",
      "nan [nan] [nan]\n",
      "nan [nan] [nan]\n",
      "nan [nan] [nan]\n",
      "nan [nan] [nan]\n",
      "nan [nan] [nan]\n",
      "nan [nan] [nan]\n",
      "nan [nan] [nan]\n",
      "nan [nan] [nan]\n",
      "nan [nan] [nan]\n",
      "nan [nan] [nan]\n",
      "nan [nan] [nan]\n",
      "nan [nan] [nan]\n",
      "nan [nan] [nan]\n",
      "nan [nan] [nan]\n",
      "nan [nan] [nan]\n",
      "nan [nan] [nan]\n",
      "nan [nan] [nan]\n",
      "nan [nan] [nan]\n",
      "nan [nan] [nan]\n",
      "nan [nan] [nan]\n",
      "nan [nan] [nan]\n",
      "nan [nan] [nan]\n",
      "nan [nan] [nan]\n",
      "nan [nan] [nan]\n",
      "nan [nan] [nan]\n",
      "nan [nan] [nan]\n",
      "nan [nan] [nan]\n",
      "nan [nan] [nan]\n",
      "nan [nan] [nan]\n"
     ]
    }
   ],
   "source": [
    "for i in range(2000) :\n",
    "    cost_val, W_val, b_val, _ = sess.run([cost, W, b, train], feed_dict={x:xdata, y:ydata})\n",
    "    if i % 20 == 0:\n",
    "        print(cost_val, W_val, b_val)\n",
    "        # 학습이 종료되면 cost_val이 최소값이 되어야 함\n",
    "        # W : 1, b : 0.5 \n",
    "    "
   ]
  },
  {
   "cell_type": "code",
   "execution_count": 22,
   "metadata": {},
   "outputs": [
    {
     "name": "stdout",
     "output_type": "stream",
     "text": [
      "[nan]\n"
     ]
    }
   ],
   "source": [
    "print(sess.run(hypothesis, feed_dict={x:[5]}))"
   ]
  }
 ],
 "metadata": {
  "kernelspec": {
   "display_name": "Python 3",
   "language": "python",
   "name": "python3"
  },
  "language_info": {
   "codemirror_mode": {
    "name": "ipython",
    "version": 3
   },
   "file_extension": ".py",
   "mimetype": "text/x-python",
   "name": "python",
   "nbconvert_exporter": "python",
   "pygments_lexer": "ipython3",
   "version": "3.7.3"
  }
 },
 "nbformat": 4,
 "nbformat_minor": 2
}
